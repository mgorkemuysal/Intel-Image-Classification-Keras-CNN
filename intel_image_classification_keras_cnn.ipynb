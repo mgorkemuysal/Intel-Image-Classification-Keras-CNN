{
  "nbformat": 4,
  "nbformat_minor": 0,
  "metadata": {
    "colab": {
      "name": "intel_image_classification_keras_cnn.ipynb",
      "provenance": [],
      "collapsed_sections": [],
      "authorship_tag": "ABX9TyMPdLi99gbTq2osY18dFZp9",
      "include_colab_link": true
    },
    "kernelspec": {
      "name": "python3",
      "display_name": "Python 3"
    },
    "accelerator": "GPU"
  },
  "cells": [
    {
      "cell_type": "markdown",
      "metadata": {
        "id": "view-in-github",
        "colab_type": "text"
      },
      "source": [
        "<a href=\"https://colab.research.google.com/github/mgorkemuysal/Intel-Image-Classification-Keras-CNN/blob/master/intel_image_classification_keras_cnn.ipynb\" target=\"_parent\"><img src=\"https://colab.research.google.com/assets/colab-badge.svg\" alt=\"Open In Colab\"/></a>"
      ]
    },
    {
      "cell_type": "markdown",
      "metadata": {
        "id": "XH4b2eVZ1o2-",
        "colab_type": "text"
      },
      "source": [
        "# **Downloading and Preparing the Data**\n",
        "Download image data from Kaggle using kaggle.json file\n",
        "\n",
        "\n"
      ]
    },
    {
      "cell_type": "code",
      "metadata": {
        "id": "nU8zj2oUU47_",
        "colab_type": "code",
        "outputId": "9a1945ab-41b8-481b-f192-fa4521865459",
        "colab": {
          "base_uri": "https://localhost:8080/",
          "height": 72
        }
      },
      "source": [
        "import os \n",
        "os.environ['KAGGLE_USERNAME'] = \"mgorkemuysal\"\n",
        "os.environ['KAGGLE_KEY'] = \"KAGGLE_KEY_FROM_KAGGLE.JSON\"\n",
        "!kaggle datasets download -d puneet6060/intel-image-classification"
      ],
      "execution_count": 1,
      "outputs": [
        {
          "output_type": "stream",
          "text": [
            "Downloading intel-image-classification.zip to /content\n",
            " 97% 336M/346M [00:04<00:00, 77.2MB/s]\n",
            "100% 346M/346M [00:04<00:00, 85.7MB/s]\n"
          ],
          "name": "stdout"
        }
      ]
    },
    {
      "cell_type": "code",
      "metadata": {
        "id": "ZrF-uKq2U9ux",
        "colab_type": "code",
        "colab": {}
      },
      "source": [
        "from zipfile import ZipFile\n",
        "with ZipFile('intel-image-classification.zip', 'r') as zip:\n",
        "  # zip.printdir()\n",
        "  zip.extractall()"
      ],
      "execution_count": 0,
      "outputs": []
    },
    {
      "cell_type": "code",
      "metadata": {
        "id": "snR5Qua8VHzh",
        "colab_type": "code",
        "outputId": "5c876165-553c-449c-a9a5-498727f328db",
        "colab": {
          "base_uri": "https://localhost:8080/",
          "height": 35
        }
      },
      "source": [
        "!ls"
      ],
      "execution_count": 3,
      "outputs": [
        {
          "output_type": "stream",
          "text": [
            "intel-image-classification.zip\tsample_data  seg_pred  seg_test  seg_train\n"
          ],
          "name": "stdout"
        }
      ]
    },
    {
      "cell_type": "markdown",
      "metadata": {
        "id": "H5NjA0UF24KC",
        "colab_type": "text"
      },
      "source": [
        "# **Inspecting Directories and Number of Images**\n",
        "Training and Test directories have buildings, forest, glacier, mountain, sea and street subdirectories. In Keras, we can use subdirectories as 'labels'. So, we can say that our problem is multiclass classification problem. We should split training images to use validation later."
      ]
    },
    {
      "cell_type": "code",
      "metadata": {
        "id": "zGEFn3ShVLWL",
        "colab_type": "code",
        "outputId": "971ef016-9f19-42c0-f98f-74bae4ce4e18",
        "colab": {
          "base_uri": "https://localhost:8080/",
          "height": 329
        }
      },
      "source": [
        "train_dir = './seg_train/seg_train/'\n",
        "test_dir = './seg_test/seg_test/'\n",
        "\n",
        "print('\\t--- TRAINING IMAGES ---\\n')\n",
        "print('Number of training building images:', len(os.listdir(os.path.join(train_dir, 'buildings'))))\n",
        "print('Number of training forest images:', len(os.listdir(os.path.join(train_dir, 'forest'))))\n",
        "print('Number of training glacier images:', len(os.listdir(os.path.join(train_dir, 'glacier'))))\n",
        "print('Number of training mountain images:', len(os.listdir(os.path.join(train_dir, 'mountain'))))\n",
        "print('Number of training sea images:', len(os.listdir(os.path.join(train_dir, 'sea'))))\n",
        "print('Number of training street images:', len(os.listdir(os.path.join(train_dir, 'street'))))\n",
        "print('\\n\\t--- TEST IMAGES ---\\n')\n",
        "print('Number of test building images:', len(os.listdir(os.path.join(test_dir, 'buildings'))))\n",
        "print('Number of test forest images:', len(os.listdir(os.path.join(test_dir, 'forest'))))\n",
        "print('Number of test glacier images:', len(os.listdir(os.path.join(test_dir, 'glacier'))))\n",
        "print('Number of test mountain images:', len(os.listdir(os.path.join(test_dir, 'mountain'))))\n",
        "print('Number of test sea images:', len(os.listdir(os.path.join(test_dir, 'sea'))))\n",
        "print('Number of test street images:', len(os.listdir(os.path.join(test_dir, 'street'))))"
      ],
      "execution_count": 4,
      "outputs": [
        {
          "output_type": "stream",
          "text": [
            "\t--- TRAINING IMAGES ---\n",
            "\n",
            "Number of training building images: 2191\n",
            "Number of training forest images: 2271\n",
            "Number of training glacier images: 2404\n",
            "Number of training mountain images: 2512\n",
            "Number of training sea images: 2274\n",
            "Number of training street images: 2382\n",
            "\n",
            "\t--- TEST IMAGES ---\n",
            "\n",
            "Number of test building images: 437\n",
            "Number of test forest images: 474\n",
            "Number of test glacier images: 553\n",
            "Number of test mountain images: 525\n",
            "Number of test sea images: 510\n",
            "Number of test street images: 501\n"
          ],
          "name": "stdout"
        }
      ]
    },
    {
      "cell_type": "markdown",
      "metadata": {
        "id": "iUwtTWAn1eli",
        "colab_type": "text"
      },
      "source": [
        "# **Data Preprocessing**\n",
        "Before construct and train our model, we need data preprocessing. First thing to do rescale the pixel values (between 0 and 255) to the [0, 1] interval (neural networks prefer to deal with small input values) and split our train images into validation subset. Also we need to use class_mode = 'categorical' because we have multiclass classification problem. Thanks to data processing we can read the picture files, decode the JPEG content to RGB grids of pixels, convert these into floating-point tensors.\n",
        "\n"
      ]
    },
    {
      "cell_type": "code",
      "metadata": {
        "id": "cCRM8EAHx28D",
        "colab_type": "code",
        "colab": {
          "base_uri": "https://localhost:8080/",
          "height": 72
        },
        "outputId": "fcf2d5fd-64c0-4de7-964a-3048c742dc55"
      },
      "source": [
        "train_datagen = ImageDataGenerator(rescale=1./255, validation_split = 0.25)\n",
        "test_datagen = ImageDataGenerator(rescale=1./255)\n",
        "\n",
        "train_generator = train_datagen.flow_from_directory (\n",
        "    directory = train_dir,\n",
        "    target_size = (150, 150),\n",
        "    class_mode = 'categorical',\n",
        "    batch_size = 64,\n",
        "    subset = 'training'\n",
        ")\n",
        "\n",
        "validation_generator = train_datagen.flow_from_directory (\n",
        "    directory = train_dir,\n",
        "    target_size = (150, 150),\n",
        "    class_mode = 'categorical',\n",
        "    batch_size = 64,\n",
        "    subset = 'validation'\n",
        ")\n",
        "\n",
        "test_generator = test_datagen.flow_from_directory (\n",
        "    directory = test_dir,\n",
        "    target_size = (150, 150),\n",
        "    class_mode = 'categorical',\n",
        "    batch_size = 64\n",
        ")"
      ],
      "execution_count": 40,
      "outputs": [
        {
          "output_type": "stream",
          "text": [
            "Found 10528 images belonging to 6 classes.\n",
            "Found 3506 images belonging to 6 classes.\n",
            "Found 3000 images belonging to 6 classes.\n"
          ],
          "name": "stdout"
        }
      ]
    },
    {
      "cell_type": "markdown",
      "metadata": {
        "id": "7v3BiuZ-6Kbc",
        "colab_type": "text"
      },
      "source": [
        "# **Building Network**\n",
        "The Model consists of Conv2D, MaxPooling2D, Flatten and Dense layers with (150, 150, 3) input shape (height, width, rgb), ReLU and softmax activation functions. Because we have a multiclass-classification problem, the model end with 6 unit and softmax activation function."
      ]
    },
    {
      "cell_type": "code",
      "metadata": {
        "id": "GeLNjOuLx3pg",
        "colab_type": "code",
        "colab": {}
      },
      "source": [
        "from keras import models, layers\n",
        "\n",
        "model = models.Sequential()\n",
        "model.add(layers.Conv2D(16, (3, 3), activation = 'relu', input_shape = (150, 150, 3)))\n",
        "model.add(layers.MaxPooling2D((2, 2)))\n",
        "model.add(layers.Conv2D(32, (3, 3), activation = 'relu'))\n",
        "model.add(layers.MaxPooling2D((2, 2)))\n",
        "model.add(layers.Conv2D(64, (3, 3), activation = 'relu'))\n",
        "model.add(layers.MaxPooling2D((2, 2)))\n",
        "model.add(layers.Conv2D(128, (3, 3), activation = 'relu'))\n",
        "model.add(layers.MaxPooling2D((2, 2)))\n",
        "model.add(layers.Flatten())\n",
        "model.add(layers.Dense(512, activation = 'relu'))\n",
        "model.add(layers.Dense(6, activation = 'softmax'))"
      ],
      "execution_count": 0,
      "outputs": []
    },
    {
      "cell_type": "markdown",
      "metadata": {
        "id": "adCfk4907vQe",
        "colab_type": "text"
      },
      "source": [
        "# **Configuring the model for Training**\n",
        "Because we have multiclass-classification problem, we need to use categorical_crossentropy loss function."
      ]
    },
    {
      "cell_type": "code",
      "metadata": {
        "id": "Gfp5YQXUx7nb",
        "colab_type": "code",
        "colab": {}
      },
      "source": [
        "model.compile(\n",
        "    loss = 'categorical_crossentropy',\n",
        "    optimizer = 'rmsprop',\n",
        "    metrics = ['acc']\n",
        ")"
      ],
      "execution_count": 0,
      "outputs": []
    },
    {
      "cell_type": "markdown",
      "metadata": {
        "id": "EfDQcn4P8S40",
        "colab_type": "text"
      },
      "source": [
        "# **Fitting the model using Batch Generator**\n",
        "We can fit the model using fit_generator method includes train_generator, validation_generator, epocs and batch sizes per epoch (image_number / batch_size) "
      ]
    },
    {
      "cell_type": "code",
      "metadata": {
        "id": "IXgmvOl0ycLh",
        "colab_type": "code",
        "colab": {
          "base_uri": "https://localhost:8080/",
          "height": 1000
        },
        "outputId": "40ab60fc-2bbf-4a0a-e885-bae9e4cc6198"
      },
      "source": [
        "history = model.fit_generator (\n",
        "    train_generator,\n",
        "    steps_per_epoch = int(10528/64),\n",
        "    epochs = 50,\n",
        "    validation_data = validation_generator,\n",
        "    validation_steps = int(3506/64)\n",
        ")"
      ],
      "execution_count": 43,
      "outputs": [
        {
          "output_type": "stream",
          "text": [
            "Epoch 1/50\n",
            "164/164 [==============================] - 15s 89ms/step - loss: 1.3536 - acc: 0.4862 - val_loss: 0.7181 - val_acc: 0.6183\n",
            "Epoch 2/50\n",
            "164/164 [==============================] - 14s 88ms/step - loss: 0.9301 - acc: 0.6435 - val_loss: 0.9098 - val_acc: 0.6732\n",
            "Epoch 3/50\n",
            "164/164 [==============================] - 14s 88ms/step - loss: 0.7679 - acc: 0.7134 - val_loss: 0.6650 - val_acc: 0.7220\n",
            "Epoch 4/50\n",
            "164/164 [==============================] - 14s 88ms/step - loss: 0.6350 - acc: 0.7636 - val_loss: 0.4665 - val_acc: 0.7804\n",
            "Epoch 5/50\n",
            "164/164 [==============================] - 15s 89ms/step - loss: 0.5385 - acc: 0.8045 - val_loss: 0.3958 - val_acc: 0.8004\n",
            "Epoch 6/50\n",
            "164/164 [==============================] - 15s 89ms/step - loss: 0.4606 - acc: 0.8337 - val_loss: 0.7773 - val_acc: 0.7580\n",
            "Epoch 7/50\n",
            "164/164 [==============================] - 15s 89ms/step - loss: 0.3624 - acc: 0.8700 - val_loss: 0.5084 - val_acc: 0.7841\n",
            "Epoch 8/50\n",
            "164/164 [==============================] - 15s 89ms/step - loss: 0.2931 - acc: 0.8975 - val_loss: 0.7926 - val_acc: 0.7978\n",
            "Epoch 9/50\n",
            "164/164 [==============================] - 14s 88ms/step - loss: 0.2270 - acc: 0.9221 - val_loss: 0.6451 - val_acc: 0.7966\n",
            "Epoch 10/50\n",
            "164/164 [==============================] - 14s 88ms/step - loss: 0.1739 - acc: 0.9397 - val_loss: 1.2534 - val_acc: 0.7772\n",
            "Epoch 11/50\n",
            "164/164 [==============================] - 15s 89ms/step - loss: 0.1537 - acc: 0.9533 - val_loss: 0.8089 - val_acc: 0.8053\n",
            "Epoch 12/50\n",
            "164/164 [==============================] - 14s 88ms/step - loss: 0.1418 - acc: 0.9640 - val_loss: 1.1317 - val_acc: 0.8021\n",
            "Epoch 13/50\n",
            "164/164 [==============================] - 14s 87ms/step - loss: 0.1184 - acc: 0.9635 - val_loss: 1.0014 - val_acc: 0.8001\n",
            "Epoch 14/50\n",
            "164/164 [==============================] - 14s 88ms/step - loss: 0.1040 - acc: 0.9730 - val_loss: 0.7573 - val_acc: 0.7995\n",
            "Epoch 15/50\n",
            "164/164 [==============================] - 15s 89ms/step - loss: 0.0844 - acc: 0.9761 - val_loss: 0.5960 - val_acc: 0.7905\n",
            "Epoch 16/50\n",
            "164/164 [==============================] - 14s 87ms/step - loss: 0.0971 - acc: 0.9785 - val_loss: 0.7898 - val_acc: 0.7960\n",
            "Epoch 17/50\n",
            "164/164 [==============================] - 14s 86ms/step - loss: 0.0787 - acc: 0.9776 - val_loss: 0.8579 - val_acc: 0.7865\n",
            "Epoch 18/50\n",
            "164/164 [==============================] - 14s 88ms/step - loss: 0.0700 - acc: 0.9820 - val_loss: 1.9231 - val_acc: 0.7885\n",
            "Epoch 19/50\n",
            "164/164 [==============================] - 14s 87ms/step - loss: 0.0691 - acc: 0.9823 - val_loss: 1.2140 - val_acc: 0.7885\n",
            "Epoch 20/50\n",
            "164/164 [==============================] - 14s 88ms/step - loss: 0.0738 - acc: 0.9825 - val_loss: 1.8615 - val_acc: 0.7955\n",
            "Epoch 21/50\n",
            "164/164 [==============================] - 14s 87ms/step - loss: 0.0612 - acc: 0.9861 - val_loss: 2.0345 - val_acc: 0.7850\n",
            "Epoch 22/50\n",
            "164/164 [==============================] - 14s 87ms/step - loss: 0.0743 - acc: 0.9823 - val_loss: 2.6464 - val_acc: 0.6915\n",
            "Epoch 23/50\n",
            "164/164 [==============================] - 14s 87ms/step - loss: 0.0598 - acc: 0.9844 - val_loss: 1.4243 - val_acc: 0.8001\n",
            "Epoch 24/50\n",
            "164/164 [==============================] - 14s 88ms/step - loss: 0.0634 - acc: 0.9847 - val_loss: 1.2902 - val_acc: 0.7856\n",
            "Epoch 25/50\n",
            "164/164 [==============================] - 14s 88ms/step - loss: 0.0562 - acc: 0.9859 - val_loss: 1.9803 - val_acc: 0.7658\n",
            "Epoch 26/50\n",
            "164/164 [==============================] - 15s 89ms/step - loss: 0.0621 - acc: 0.9850 - val_loss: 1.1785 - val_acc: 0.7699\n",
            "Epoch 27/50\n",
            "164/164 [==============================] - 14s 87ms/step - loss: 0.0601 - acc: 0.9855 - val_loss: 2.4527 - val_acc: 0.7987\n",
            "Epoch 28/50\n",
            "164/164 [==============================] - 14s 87ms/step - loss: 0.0577 - acc: 0.9847 - val_loss: 1.3922 - val_acc: 0.8112\n",
            "Epoch 29/50\n",
            "164/164 [==============================] - 14s 87ms/step - loss: 0.0578 - acc: 0.9858 - val_loss: 1.5710 - val_acc: 0.7783\n",
            "Epoch 30/50\n",
            "164/164 [==============================] - 14s 86ms/step - loss: 0.0609 - acc: 0.9848 - val_loss: 1.2080 - val_acc: 0.7888\n",
            "Epoch 31/50\n",
            "164/164 [==============================] - 14s 86ms/step - loss: 0.0727 - acc: 0.9833 - val_loss: 2.2628 - val_acc: 0.7719\n",
            "Epoch 32/50\n",
            "164/164 [==============================] - 14s 87ms/step - loss: 0.0665 - acc: 0.9845 - val_loss: 2.5117 - val_acc: 0.8001\n",
            "Epoch 33/50\n",
            "164/164 [==============================] - 14s 86ms/step - loss: 0.0659 - acc: 0.9859 - val_loss: 1.3724 - val_acc: 0.7737\n",
            "Epoch 34/50\n",
            "164/164 [==============================] - 14s 86ms/step - loss: 0.0717 - acc: 0.9846 - val_loss: 1.5425 - val_acc: 0.7812\n",
            "Epoch 35/50\n",
            "164/164 [==============================] - 14s 86ms/step - loss: 0.0626 - acc: 0.9870 - val_loss: 2.5158 - val_acc: 0.7772\n",
            "Epoch 36/50\n",
            "164/164 [==============================] - 14s 86ms/step - loss: 0.0620 - acc: 0.9879 - val_loss: 1.2688 - val_acc: 0.7868\n",
            "Epoch 37/50\n",
            "164/164 [==============================] - 14s 88ms/step - loss: 0.0746 - acc: 0.9868 - val_loss: 3.3103 - val_acc: 0.7772\n",
            "Epoch 38/50\n",
            "164/164 [==============================] - 14s 87ms/step - loss: 0.0674 - acc: 0.9863 - val_loss: 2.9814 - val_acc: 0.7987\n",
            "Epoch 39/50\n",
            "164/164 [==============================] - 14s 87ms/step - loss: 0.0630 - acc: 0.9856 - val_loss: 2.5651 - val_acc: 0.7589\n",
            "Epoch 40/50\n",
            "164/164 [==============================] - 14s 86ms/step - loss: 0.0560 - acc: 0.9882 - val_loss: 3.9375 - val_acc: 0.7670\n",
            "Epoch 41/50\n",
            "164/164 [==============================] - 14s 86ms/step - loss: 0.0790 - acc: 0.9853 - val_loss: 2.0298 - val_acc: 0.7484\n",
            "Epoch 42/50\n",
            "164/164 [==============================] - 14s 87ms/step - loss: 0.0823 - acc: 0.9832 - val_loss: 1.0133 - val_acc: 0.7943\n",
            "Epoch 43/50\n",
            "164/164 [==============================] - 14s 87ms/step - loss: 0.0977 - acc: 0.9835 - val_loss: 3.3469 - val_acc: 0.7888\n",
            "Epoch 44/50\n",
            "164/164 [==============================] - 14s 87ms/step - loss: 0.0717 - acc: 0.9862 - val_loss: 2.9592 - val_acc: 0.7763\n",
            "Epoch 45/50\n",
            "164/164 [==============================] - 14s 87ms/step - loss: 0.1295 - acc: 0.9848 - val_loss: 1.3395 - val_acc: 0.7937\n",
            "Epoch 46/50\n",
            "164/164 [==============================] - 14s 87ms/step - loss: 0.0519 - acc: 0.9872 - val_loss: 3.2826 - val_acc: 0.7920\n",
            "Epoch 47/50\n",
            "164/164 [==============================] - 14s 87ms/step - loss: 0.0679 - acc: 0.9870 - val_loss: 3.7237 - val_acc: 0.7545\n",
            "Epoch 48/50\n",
            "164/164 [==============================] - 14s 87ms/step - loss: 0.0842 - acc: 0.9856 - val_loss: 4.9668 - val_acc: 0.7775\n",
            "Epoch 49/50\n",
            "164/164 [==============================] - 14s 86ms/step - loss: 0.0649 - acc: 0.9867 - val_loss: 3.0018 - val_acc: 0.7804\n",
            "Epoch 50/50\n",
            "164/164 [==============================] - 14s 86ms/step - loss: 0.0685 - acc: 0.9870 - val_loss: 2.0107 - val_acc: 0.8030\n"
          ],
          "name": "stdout"
        }
      ]
    },
    {
      "cell_type": "markdown",
      "metadata": {
        "id": "6MTFkTtJ9cJy",
        "colab_type": "text"
      },
      "source": [
        "# **Visualizing the Performance of the Model**\n",
        "We can clearly see that the model is overfitting (High accuracy - Low Loss and Low Validation Accuracy - High Validation Loss). So, we must update our model and preprocessing process to get rid of the overfitting."
      ]
    },
    {
      "cell_type": "code",
      "metadata": {
        "id": "0ppBH26Fyc1E",
        "colab_type": "code",
        "colab": {
          "base_uri": "https://localhost:8080/",
          "height": 545
        },
        "outputId": "4c852f81-9ea8-4598-ba50-060948b87c71"
      },
      "source": [
        "import matplotlib.pyplot as plt\n",
        "\n",
        "acc = history.history['acc']\n",
        "val_acc = history.history['val_acc']\n",
        "loss = history.history['loss']\n",
        "val_loss = history.history['val_loss']\n",
        "epochs = range(1, len(acc) + 1)\n",
        "plt.plot(epochs, acc, 'bo', label='Training accuracy')\n",
        "plt.plot(epochs, val_acc, 'b', label='Validation accuracy')\n",
        "plt.title('Training and validation accuracy')\n",
        "plt.legend()\n",
        "plt.figure()\n",
        "plt.plot(epochs, loss, 'bo', label='Training loss')\n",
        "plt.plot(epochs, val_loss, 'b', label='Validation loss')\n",
        "plt.title('Training and validation loss')\n",
        "plt.legend()\n",
        "plt.show()"
      ],
      "execution_count": 44,
      "outputs": [
        {
          "output_type": "display_data",
          "data": {
            "image/png": "[encoded data removed]",
            "text/plain": [
              "<Figure size 432x288 with 1 Axes>"
            ]
          },
          "metadata": {
            "tags": [],
            "needs_background": "light"
          }
        },
        {
          "output_type": "display_data",
          "data": {
            "image/png": "[encoded data removed]",
            "text/plain": [
              "<Figure size 432x288 with 1 Axes>"
            ]
          },
          "metadata": {
            "tags": [],
            "needs_background": "light"
          }
        }
      ]
    },
    {
      "cell_type": "markdown",
      "metadata": {
        "id": "atmS1xR6-TXF",
        "colab_type": "text"
      },
      "source": [
        "# **Adding Dropout to Network**\n",
        "Dropout  is  one  of  the  most  effective  and  most  commonly  used  regularization  tech-niques for neural networks. Dropout,  applied  to  a  layer,  consists  of  randomly  dropping  out(setting to zero) a number of output features of the layer during training. "
      ]
    },
    {
      "cell_type": "code",
      "metadata": {
        "id": "m1hI67DImpAN",
        "colab_type": "code",
        "outputId": "befb80bf-165d-4add-c10c-703df31978b0",
        "colab": {
          "base_uri": "https://localhost:8080/",
          "height": 35
        }
      },
      "source": [
        "from keras import models, layers\n",
        "\n",
        "model = models.Sequential()\n",
        "model.add(layers.Conv2D(16, (3, 3), activation = 'relu', input_shape = (150, 150, 3)))\n",
        "model.add(layers.MaxPooling2D((2, 2)))\n",
        "model.add(layers.Conv2D(32, (3, 3), activation = 'relu'))\n",
        "model.add(layers.MaxPooling2D((2, 2)))\n",
        "model.add(layers.Conv2D(64, (3, 3), activation = 'relu'))\n",
        "model.add(layers.MaxPooling2D((2, 2)))\n",
        "model.add(layers.Conv2D(128, (3, 3), activation = 'relu'))\n",
        "model.add(layers.MaxPooling2D((2, 2)))\n",
        "model.add(layers.Flatten())\n",
        "model.add(layers.Dropout(0.5))\n",
        "model.add(layers.Dense(512, activation = 'relu'))\n",
        "model.add(layers.Dense(6, activation = 'softmax'))"
      ],
      "execution_count": 0,
      "outputs": [
        {
          "output_type": "stream",
          "text": [
            "Using TensorFlow backend.\n"
          ],
          "name": "stderr"
        }
      ]
    },
    {
      "cell_type": "code",
      "metadata": {
        "id": "SkltBJHuTy7a",
        "colab_type": "code",
        "outputId": "42998315-5d55-44c1-e606-41bbb5f7a40d",
        "colab": {
          "base_uri": "https://localhost:8080/",
          "height": 605
        }
      },
      "source": [
        "model.summary()"
      ],
      "execution_count": 0,
      "outputs": [
        {
          "output_type": "stream",
          "text": [
            "Model: \"sequential_1\"\n",
            "_________________________________________________________________\n",
            "Layer (type)                 Output Shape              Param #   \n",
            "=================================================================\n",
            "conv2d_1 (Conv2D)            (None, 148, 148, 16)      448       \n",
            "_________________________________________________________________\n",
            "max_pooling2d_1 (MaxPooling2 (None, 74, 74, 16)        0         \n",
            "_________________________________________________________________\n",
            "conv2d_2 (Conv2D)            (None, 72, 72, 32)        4640      \n",
            "_________________________________________________________________\n",
            "max_pooling2d_2 (MaxPooling2 (None, 36, 36, 32)        0         \n",
            "_________________________________________________________________\n",
            "conv2d_3 (Conv2D)            (None, 34, 34, 64)        18496     \n",
            "_________________________________________________________________\n",
            "max_pooling2d_3 (MaxPooling2 (None, 17, 17, 64)        0         \n",
            "_________________________________________________________________\n",
            "conv2d_4 (Conv2D)            (None, 15, 15, 128)       73856     \n",
            "_________________________________________________________________\n",
            "max_pooling2d_4 (MaxPooling2 (None, 7, 7, 128)         0         \n",
            "_________________________________________________________________\n",
            "flatten_1 (Flatten)          (None, 6272)              0         \n",
            "_________________________________________________________________\n",
            "dropout_1 (Dropout)          (None, 6272)              0         \n",
            "_________________________________________________________________\n",
            "dense_1 (Dense)              (None, 512)               3211776   \n",
            "_________________________________________________________________\n",
            "dense_2 (Dense)              (None, 6)                 3078      \n",
            "=================================================================\n",
            "Total params: 3,312,294\n",
            "Trainable params: 3,312,294\n",
            "Non-trainable params: 0\n",
            "_________________________________________________________________\n"
          ],
          "name": "stdout"
        }
      ]
    },
    {
      "cell_type": "markdown",
      "metadata": {
        "id": "4kkTE5Px_H3-",
        "colab_type": "text"
      },
      "source": [
        "# **Using Data Augmentation**\n",
        "Overfitting is caused by having too few samples to learn from, rendering you unable to train a model that can generalize to new data. Data augmentation takes the approach of generating more training datafrom  existing  training  samples, by augmenting the samples via a number of random transformations that yield believable-looking images."
      ]
    },
    {
      "cell_type": "code",
      "metadata": {
        "id": "JSy3v3Cpm9Vk",
        "colab_type": "code",
        "outputId": "6c687606-8a99-4913-f08e-fe5d97f4d19a",
        "colab": {
          "base_uri": "https://localhost:8080/",
          "height": 90
        }
      },
      "source": [
        "from keras.preprocessing.image import ImageDataGenerator\n",
        "\n",
        "train_datagen = ImageDataGenerator(\n",
        "    rescale=1./255,\n",
        "    rotation_range=40,\n",
        "    width_shift_range=0.2,\n",
        "    height_shift_range=0.2,\n",
        "    shear_range=0.2,\n",
        "    zoom_range=0.2,\n",
        "    horizontal_flip=True,\n",
        "    validation_split = 0.25\n",
        ")\n",
        "test_datagen = ImageDataGenerator(rescale=1./255)\n",
        "\n",
        "train_generator = train_datagen.flow_from_directory (\n",
        "    directory = train_dir,\n",
        "    target_size = (150, 150),\n",
        "    class_mode = 'categorical',\n",
        "    batch_size = 64,\n",
        "    subset = 'training'\n",
        ")\n",
        "\n",
        "validation_generator = train_datagen.flow_from_directory (\n",
        "    directory = train_dir,\n",
        "    target_size = (150, 150),\n",
        "    class_mode = 'categorical',\n",
        "    batch_size = 64,\n",
        "    subset = 'validation'\n",
        ")\n",
        "\n",
        "test_generator = test_datagen.flow_from_directory (\n",
        "    directory = test_dir,\n",
        "    target_size = (150, 150),\n",
        "    class_mode = 'categorical',\n",
        "    batch_size = 64\n",
        ")"
      ],
      "execution_count": 5,
      "outputs": [
        {
          "output_type": "stream",
          "text": [
            "Using TensorFlow backend.\n"
          ],
          "name": "stderr"
        },
        {
          "output_type": "stream",
          "text": [
            "Found 10528 images belonging to 6 classes.\n",
            "Found 3506 images belonging to 6 classes.\n",
            "Found 3000 images belonging to 6 classes.\n"
          ],
          "name": "stdout"
        }
      ]
    },
    {
      "cell_type": "code",
      "metadata": {
        "id": "GCIP2rTXnSsc",
        "colab_type": "code",
        "colab": {}
      },
      "source": [
        "model.compile(\n",
        "    loss = 'categorical_crossentropy',\n",
        "    optimizer = 'rmsprop',\n",
        "    metrics = ['acc']\n",
        ")"
      ],
      "execution_count": 0,
      "outputs": []
    },
    {
      "cell_type": "markdown",
      "metadata": {
        "id": "l2Gwq4b2_8Rv",
        "colab_type": "text"
      },
      "source": [
        "# **Using Callbacks**\n",
        "\n",
        "Thanks to the ReduceLROnPlateau(), if the model in training process gets stuck local minimum, we can multiply learning rate by factor value. To do this ReduceLROnPlateau() watches val_loss through training process. This may increase the performance of the model."
      ]
    },
    {
      "cell_type": "code",
      "metadata": {
        "id": "xpTsMNZfnc8J",
        "colab_type": "code",
        "outputId": "351342e6-898e-4399-801c-cf1e0425ba64",
        "colab": {
          "base_uri": "https://localhost:8080/",
          "height": 1000
        }
      },
      "source": [
        "from keras.callbacks import ReduceLROnPlateau\n",
        "\n",
        "callback_reduce = ReduceLROnPlateau(monitor='val_loss', factor=0.1, patience=10, mode='auto') \n",
        "\n",
        "history = model.fit_generator (\n",
        "    train_generator,\n",
        "    steps_per_epoch = int(10528/64),\n",
        "    epochs = 50,\n",
        "    validation_data = validation_generator,\n",
        "    validation_steps = int(3506/64),\n",
        "    callbacks = [callback_reduce]\n",
        ")"
      ],
      "execution_count": 0,
      "outputs": [
        {
          "output_type": "stream",
          "text": [
            "Epoch 1/50\n",
            "164/164 [==============================] - 88s 539ms/step - loss: 1.3932 - acc: 0.4432 - val_loss: 1.1687 - val_acc: 0.5816\n",
            "Epoch 2/50\n",
            "164/164 [==============================] - 87s 532ms/step - loss: 1.1110 - acc: 0.5707 - val_loss: 1.0424 - val_acc: 0.6104\n",
            "Epoch 3/50\n",
            "164/164 [==============================] - 88s 539ms/step - loss: 1.0050 - acc: 0.6191 - val_loss: 0.8506 - val_acc: 0.6200\n",
            "Epoch 4/50\n",
            "164/164 [==============================] - 89s 543ms/step - loss: 0.9369 - acc: 0.6466 - val_loss: 0.7908 - val_acc: 0.6894\n",
            "Epoch 5/50\n",
            "164/164 [==============================] - 87s 530ms/step - loss: 0.8879 - acc: 0.6651 - val_loss: 0.7723 - val_acc: 0.7074\n",
            "Epoch 6/50\n",
            "164/164 [==============================] - 87s 533ms/step - loss: 0.8395 - acc: 0.6861 - val_loss: 0.8594 - val_acc: 0.6955\n",
            "Epoch 7/50\n",
            "164/164 [==============================] - 88s 538ms/step - loss: 0.8094 - acc: 0.7043 - val_loss: 0.8651 - val_acc: 0.7199\n",
            "Epoch 8/50\n",
            "164/164 [==============================] - 88s 537ms/step - loss: 0.7658 - acc: 0.7242 - val_loss: 0.5988 - val_acc: 0.7231\n",
            "Epoch 9/50\n",
            "164/164 [==============================] - 88s 534ms/step - loss: 0.7648 - acc: 0.7271 - val_loss: 0.7281 - val_acc: 0.7281\n",
            "Epoch 10/50\n",
            "164/164 [==============================] - 87s 532ms/step - loss: 0.7367 - acc: 0.7305 - val_loss: 0.8183 - val_acc: 0.7458\n",
            "Epoch 11/50\n",
            "164/164 [==============================] - 86s 527ms/step - loss: 0.7147 - acc: 0.7375 - val_loss: 0.7260 - val_acc: 0.7481\n",
            "Epoch 12/50\n",
            "164/164 [==============================] - 86s 523ms/step - loss: 0.7106 - acc: 0.7423 - val_loss: 0.6978 - val_acc: 0.7565\n",
            "Epoch 13/50\n",
            "164/164 [==============================] - 86s 522ms/step - loss: 0.6984 - acc: 0.7491 - val_loss: 0.8269 - val_acc: 0.7423\n",
            "Epoch 14/50\n",
            "164/164 [==============================] - 84s 512ms/step - loss: 0.6856 - acc: 0.7496 - val_loss: 0.6889 - val_acc: 0.7394\n",
            "Epoch 15/50\n",
            "164/164 [==============================] - 85s 515ms/step - loss: 0.6860 - acc: 0.7570 - val_loss: 0.6177 - val_acc: 0.7618\n",
            "Epoch 16/50\n",
            "164/164 [==============================] - 85s 520ms/step - loss: 0.6816 - acc: 0.7547 - val_loss: 0.7500 - val_acc: 0.7786\n",
            "Epoch 17/50\n",
            "164/164 [==============================] - 85s 521ms/step - loss: 0.6741 - acc: 0.7625 - val_loss: 0.7595 - val_acc: 0.7266\n",
            "Epoch 18/50\n",
            "164/164 [==============================] - 86s 522ms/step - loss: 0.6694 - acc: 0.7557 - val_loss: 0.6723 - val_acc: 0.7295\n",
            "Epoch 19/50\n",
            "164/164 [==============================] - 86s 522ms/step - loss: 0.5363 - acc: 0.8151 - val_loss: 0.5996 - val_acc: 0.8112\n",
            "Epoch 20/50\n",
            "164/164 [==============================] - 86s 521ms/step - loss: 0.5150 - acc: 0.8118 - val_loss: 0.3734 - val_acc: 0.8085\n",
            "Epoch 21/50\n",
            "164/164 [==============================] - 86s 523ms/step - loss: 0.5018 - acc: 0.8186 - val_loss: 0.4442 - val_acc: 0.8181\n",
            "Epoch 22/50\n",
            "164/164 [==============================] - 86s 522ms/step - loss: 0.4972 - acc: 0.8257 - val_loss: 0.4415 - val_acc: 0.8152\n",
            "Epoch 23/50\n",
            "164/164 [==============================] - 85s 519ms/step - loss: 0.4890 - acc: 0.8216 - val_loss: 0.6188 - val_acc: 0.8042\n",
            "Epoch 24/50\n",
            "164/164 [==============================] - 85s 517ms/step - loss: 0.4914 - acc: 0.8229 - val_loss: 0.6146 - val_acc: 0.8141\n",
            "Epoch 25/50\n",
            "164/164 [==============================] - 86s 524ms/step - loss: 0.4847 - acc: 0.8244 - val_loss: 0.5401 - val_acc: 0.8245\n",
            "Epoch 26/50\n",
            "164/164 [==============================] - 85s 521ms/step - loss: 0.4853 - acc: 0.8243 - val_loss: 0.2353 - val_acc: 0.8144\n",
            "Epoch 27/50\n",
            "164/164 [==============================] - 85s 521ms/step - loss: 0.4831 - acc: 0.8320 - val_loss: 0.6323 - val_acc: 0.8170\n",
            "Epoch 28/50\n",
            "164/164 [==============================] - 85s 521ms/step - loss: 0.4867 - acc: 0.8252 - val_loss: 0.6636 - val_acc: 0.8219\n",
            "Epoch 29/50\n",
            "164/164 [==============================] - 86s 525ms/step - loss: 0.4868 - acc: 0.8241 - val_loss: 0.5393 - val_acc: 0.8149\n",
            "Epoch 30/50\n",
            "164/164 [==============================] - 86s 522ms/step - loss: 0.4682 - acc: 0.8314 - val_loss: 0.7270 - val_acc: 0.8205\n",
            "Epoch 31/50\n",
            "164/164 [==============================] - 86s 522ms/step - loss: 0.4783 - acc: 0.8275 - val_loss: 0.4175 - val_acc: 0.8114\n",
            "Epoch 32/50\n",
            "164/164 [==============================] - 86s 524ms/step - loss: 0.4630 - acc: 0.8345 - val_loss: 0.3767 - val_acc: 0.8181\n",
            "Epoch 33/50\n",
            "164/164 [==============================] - 86s 526ms/step - loss: 0.4768 - acc: 0.8281 - val_loss: 0.6817 - val_acc: 0.8141\n",
            "Epoch 34/50\n",
            "164/164 [==============================] - 86s 523ms/step - loss: 0.4703 - acc: 0.8307 - val_loss: 0.5448 - val_acc: 0.8257\n",
            "Epoch 35/50\n",
            "164/164 [==============================] - 86s 522ms/step - loss: 0.4619 - acc: 0.8352 - val_loss: 0.4242 - val_acc: 0.8280\n",
            "Epoch 36/50\n",
            "164/164 [==============================] - 86s 522ms/step - loss: 0.4595 - acc: 0.8322 - val_loss: 0.4590 - val_acc: 0.8158\n",
            "Epoch 37/50\n",
            "164/164 [==============================] - 86s 527ms/step - loss: 0.4609 - acc: 0.8341 - val_loss: 0.4705 - val_acc: 0.8213\n",
            "Epoch 38/50\n",
            "164/164 [==============================] - 86s 523ms/step - loss: 0.4379 - acc: 0.8417 - val_loss: 0.4675 - val_acc: 0.8236\n",
            "Epoch 39/50\n",
            "164/164 [==============================] - 85s 520ms/step - loss: 0.4423 - acc: 0.8426 - val_loss: 0.4225 - val_acc: 0.8202\n",
            "Epoch 40/50\n",
            "164/164 [==============================] - 85s 519ms/step - loss: 0.4444 - acc: 0.8436 - val_loss: 0.4932 - val_acc: 0.8222\n",
            "Epoch 41/50\n",
            "164/164 [==============================] - 86s 523ms/step - loss: 0.4425 - acc: 0.8384 - val_loss: 0.4907 - val_acc: 0.8338\n",
            "Epoch 42/50\n",
            "164/164 [==============================] - 85s 521ms/step - loss: 0.4562 - acc: 0.8348 - val_loss: 0.4311 - val_acc: 0.8266\n",
            "Epoch 43/50\n",
            "164/164 [==============================] - 85s 518ms/step - loss: 0.4390 - acc: 0.8425 - val_loss: 0.3826 - val_acc: 0.8228\n",
            "Epoch 44/50\n",
            "164/164 [==============================] - 85s 518ms/step - loss: 0.4445 - acc: 0.8400 - val_loss: 0.5363 - val_acc: 0.8274\n",
            "Epoch 45/50\n",
            "164/164 [==============================] - 86s 525ms/step - loss: 0.4370 - acc: 0.8433 - val_loss: 0.4011 - val_acc: 0.8318\n",
            "Epoch 46/50\n",
            "164/164 [==============================] - 86s 522ms/step - loss: 0.4473 - acc: 0.8411 - val_loss: 0.4618 - val_acc: 0.8161\n",
            "Epoch 47/50\n",
            "164/164 [==============================] - 85s 521ms/step - loss: 0.4440 - acc: 0.8387 - val_loss: 0.3871 - val_acc: 0.8242\n",
            "Epoch 48/50\n",
            "164/164 [==============================] - 85s 518ms/step - loss: 0.4432 - acc: 0.8436 - val_loss: 0.6552 - val_acc: 0.8173\n",
            "Epoch 49/50\n",
            "164/164 [==============================] - 86s 523ms/step - loss: 0.4394 - acc: 0.8419 - val_loss: 0.3880 - val_acc: 0.8199\n",
            "Epoch 50/50\n",
            "164/164 [==============================] - 85s 520ms/step - loss: 0.4479 - acc: 0.8385 - val_loss: 0.3171 - val_acc: 0.8277\n"
          ],
          "name": "stdout"
        }
      ]
    },
    {
      "cell_type": "markdown",
      "metadata": {
        "id": "vdWP5o84BJXq",
        "colab_type": "text"
      },
      "source": [
        "# **Visualizing and Testing the new Model**\n",
        "Thanks to the dropout layer and data augmentation, we can clearly see that the new model is not overfitting (acc - vall_acc and loss - val_loss are similar). Testing result of the new model is %84. "
      ]
    },
    {
      "cell_type": "code",
      "metadata": {
        "id": "ioJiH9c-nhhf",
        "colab_type": "code",
        "outputId": "e4d22f0e-5a2c-4ab4-eaaf-3c697cf22a84",
        "colab": {
          "base_uri": "https://localhost:8080/",
          "height": 545
        }
      },
      "source": [
        "import matplotlib.pyplot as plt\n",
        "\n",
        "acc = history.history['acc']\n",
        "val_acc = history.history['val_acc']\n",
        "loss = history.history['loss']\n",
        "val_loss = history.history['val_loss']\n",
        "epochs = range(1, len(acc) + 1)\n",
        "plt.plot(epochs, acc, 'bo', label='Training accuracy')\n",
        "plt.plot(epochs, val_acc, 'b', label='Validation accuracy')\n",
        "plt.title('Training and validation accuracy')\n",
        "plt.legend()\n",
        "plt.figure()\n",
        "plt.plot(epochs, loss, 'bo', label='Training loss')\n",
        "plt.plot(epochs, val_loss, 'b', label='Validation loss')\n",
        "plt.title('Training and validation loss')\n",
        "plt.legend()\n",
        "plt.show()"
      ],
      "execution_count": 0,
      "outputs": [
        {
          "output_type": "display_data",
          "data": {
            "image/png": "[encoded data removed]",
            "text/plain": [
              "<Figure size 432x288 with 1 Axes>"
            ]
          },
          "metadata": {
            "tags": [],
            "needs_background": "light"
          }
        },
        {
          "output_type": "display_data",
          "data": {
            "image/png": "[encoded data removed]",
            "text/plain": [
              "<Figure size 432x288 with 1 Axes>"
            ]
          },
          "metadata": {
            "tags": [],
            "needs_background": "light"
          }
        }
      ]
    },
    {
      "cell_type": "code",
      "metadata": {
        "id": "RfTxU-wAb1-s",
        "colab_type": "code",
        "outputId": "a70e54a5-c020-40c8-ec90-ce7e470fa93c",
        "colab": {
          "base_uri": "https://localhost:8080/",
          "height": 35
        }
      },
      "source": [
        "accuracy = model.evaluate_generator(test_generator, steps=len(test_generator))\n",
        "print('Accuracy of the model on the test set: ',accuracy[1])"
      ],
      "execution_count": 0,
      "outputs": [
        {
          "output_type": "stream",
          "text": [
            "Accuracy of the model on the test set:  0.843999981880188\n"
          ],
          "name": "stdout"
        }
      ]
    },
    {
      "cell_type": "markdown",
      "metadata": {
        "id": "hqJQml4LB_ip",
        "colab_type": "text"
      },
      "source": [
        "# **Using Pretrained Convolutional Network**\n",
        "A pretrained network is a saved network that was previously trained on a large dataset, typically on a large-scale image-classification task. So, using a pretrained network, we can expect to take better results. \n",
        "In this case, I am going to use VGG16 network with freezing (trainable = False). Freezing a layer or set of layers means preventing their weights from beingupdated during training. If you don’t do this, then the representations that were previously learned by the convolutional base will be modified during training. Because the Dense layers on top are randomly initialized, very large weight updates would bepropagated through the network, effectively destroying the representations previously learned."
      ]
    },
    {
      "cell_type": "code",
      "metadata": {
        "id": "a-4Of4Fxd_w5",
        "colab_type": "code",
        "colab": {
          "base_uri": "https://localhost:8080/",
          "height": 54
        },
        "outputId": "5b330c9b-9a3c-453f-8c3b-b4ca64af4d6b"
      },
      "source": [
        "from keras.applications import VGG16\n",
        "base_model = VGG16(weights = 'imagenet', include_top = False, input_shape = (150, 150, 3))\n",
        "base_model.trainable = False"
      ],
      "execution_count": 27,
      "outputs": [
        {
          "output_type": "stream",
          "text": [
            "Downloading data from https://github.com/fchollet/deep-learning-models/releases/download/v0.1/vgg16_weights_tf_dim_ordering_tf_kernels_notop.h5\n",
            "58892288/58889256 [==============================] - 2s 0us/step\n"
          ],
          "name": "stdout"
        }
      ]
    },
    {
      "cell_type": "code",
      "metadata": {
        "id": "w5AvnZ2kfZZj",
        "colab_type": "code",
        "colab": {
          "base_uri": "https://localhost:8080/",
          "height": 862
        },
        "outputId": "d53599d3-e792-4675-9c48-cc2995403042"
      },
      "source": [
        "base_model.summary()"
      ],
      "execution_count": 28,
      "outputs": [
        {
          "output_type": "stream",
          "text": [
            "Model: \"vgg16\"\n",
            "_________________________________________________________________\n",
            "Layer (type)                 Output Shape              Param #   \n",
            "=================================================================\n",
            "input_9 (InputLayer)         (None, 150, 150, 3)       0         \n",
            "_________________________________________________________________\n",
            "block1_conv1 (Conv2D)        (None, 150, 150, 64)      1792      \n",
            "_________________________________________________________________\n",
            "block1_conv2 (Conv2D)        (None, 150, 150, 64)      36928     \n",
            "_________________________________________________________________\n",
            "block1_pool (MaxPooling2D)   (None, 75, 75, 64)        0         \n",
            "_________________________________________________________________\n",
            "block2_conv1 (Conv2D)        (None, 75, 75, 128)       73856     \n",
            "_________________________________________________________________\n",
            "block2_conv2 (Conv2D)        (None, 75, 75, 128)       147584    \n",
            "_________________________________________________________________\n",
            "block2_pool (MaxPooling2D)   (None, 37, 37, 128)       0         \n",
            "_________________________________________________________________\n",
            "block3_conv1 (Conv2D)        (None, 37, 37, 256)       295168    \n",
            "_________________________________________________________________\n",
            "block3_conv2 (Conv2D)        (None, 37, 37, 256)       590080    \n",
            "_________________________________________________________________\n",
            "block3_conv3 (Conv2D)        (None, 37, 37, 256)       590080    \n",
            "_________________________________________________________________\n",
            "block3_pool (MaxPooling2D)   (None, 18, 18, 256)       0         \n",
            "_________________________________________________________________\n",
            "block4_conv1 (Conv2D)        (None, 18, 18, 512)       1180160   \n",
            "_________________________________________________________________\n",
            "block4_conv2 (Conv2D)        (None, 18, 18, 512)       2359808   \n",
            "_________________________________________________________________\n",
            "block4_conv3 (Conv2D)        (None, 18, 18, 512)       2359808   \n",
            "_________________________________________________________________\n",
            "block4_pool (MaxPooling2D)   (None, 9, 9, 512)         0         \n",
            "_________________________________________________________________\n",
            "block5_conv1 (Conv2D)        (None, 9, 9, 512)         2359808   \n",
            "_________________________________________________________________\n",
            "block5_conv2 (Conv2D)        (None, 9, 9, 512)         2359808   \n",
            "_________________________________________________________________\n",
            "block5_conv3 (Conv2D)        (None, 9, 9, 512)         2359808   \n",
            "_________________________________________________________________\n",
            "block5_pool (MaxPooling2D)   (None, 4, 4, 512)         0         \n",
            "=================================================================\n",
            "Total params: 14,714,688\n",
            "Trainable params: 0\n",
            "Non-trainable params: 14,714,688\n",
            "_________________________________________________________________\n"
          ],
          "name": "stdout"
        }
      ]
    },
    {
      "cell_type": "markdown",
      "metadata": {
        "id": "LhgXZ8VlEXNZ",
        "colab_type": "text"
      },
      "source": [
        "# **Building a Network from Pretrained Network**\n",
        "Adding densely-connected layers to pretrained VGG16 network. To do so, I build a network to use my multiclass-classification problem (6 units and softmax activation function in the last layer).  "
      ]
    },
    {
      "cell_type": "code",
      "metadata": {
        "id": "vzzDjOMDfmrG",
        "colab_type": "code",
        "colab": {
          "base_uri": "https://localhost:8080/",
          "height": 311
        },
        "outputId": "f46e09d0-6485-46cd-ea20-7dfb71bf3fae"
      },
      "source": [
        "from keras import models, layers\n",
        "\n",
        "model_vgg16 = models.Sequential()\n",
        "model_vgg16.add(base_model)\n",
        "model_vgg16.add(layers.Flatten())\n",
        "model_vgg16.add(layers.Dense(512, activation = 'relu'))\n",
        "model_vgg16.add(layers.Dense(6, activation = 'softmax'))\n",
        "\n",
        "model_vgg16.summary()"
      ],
      "execution_count": 29,
      "outputs": [
        {
          "output_type": "stream",
          "text": [
            "Model: \"sequential_6\"\n",
            "_________________________________________________________________\n",
            "Layer (type)                 Output Shape              Param #   \n",
            "=================================================================\n",
            "vgg16 (Model)                (None, 4, 4, 512)         14714688  \n",
            "_________________________________________________________________\n",
            "flatten_3 (Flatten)          (None, 8192)              0         \n",
            "_________________________________________________________________\n",
            "dense_11 (Dense)             (None, 512)               4194816   \n",
            "_________________________________________________________________\n",
            "dense_12 (Dense)             (None, 6)                 3078      \n",
            "=================================================================\n",
            "Total params: 18,912,582\n",
            "Trainable params: 4,197,894\n",
            "Non-trainable params: 14,714,688\n",
            "_________________________________________________________________\n"
          ],
          "name": "stdout"
        }
      ]
    },
    {
      "cell_type": "code",
      "metadata": {
        "id": "3MmM2QPdgWEj",
        "colab_type": "code",
        "colab": {}
      },
      "source": [
        "from keras import optimizers\n",
        "model_vgg16.compile(loss = 'categorical_crossentropy',\n",
        "                    optimizer = optimizers.RMSprop(lr=2e-5),\n",
        "                    metrics=['acc'])"
      ],
      "execution_count": 0,
      "outputs": []
    },
    {
      "cell_type": "code",
      "metadata": {
        "id": "tqwOoWEPg4hF",
        "colab_type": "code",
        "colab": {
          "base_uri": "https://localhost:8080/",
          "height": 1000
        },
        "outputId": "ed2c9703-5238-471a-fb9e-95c3228cfccd"
      },
      "source": [
        "history_vgg16 = model_vgg16.fit_generator (\n",
        "    train_generator,\n",
        "    steps_per_epoch = int(10528/64),\n",
        "    epochs = 50,\n",
        "    validation_data = validation_generator,\n",
        "    validation_steps = int(3506/64)\n",
        ")"
      ],
      "execution_count": 36,
      "outputs": [
        {
          "output_type": "stream",
          "text": [
            "Epoch 1/50\n",
            "164/164 [==============================] - 81s 492ms/step - loss: 0.9580 - acc: 0.6843 - val_loss: 0.8025 - val_acc: 0.7575\n",
            "Epoch 2/50\n",
            "164/164 [==============================] - 81s 492ms/step - loss: 0.6223 - acc: 0.7823 - val_loss: 0.7256 - val_acc: 0.7990\n",
            "Epoch 3/50\n",
            "164/164 [==============================] - 80s 490ms/step - loss: 0.5534 - acc: 0.8052 - val_loss: 0.4569 - val_acc: 0.8030\n",
            "Epoch 4/50\n",
            "164/164 [==============================] - 80s 489ms/step - loss: 0.5269 - acc: 0.8137 - val_loss: 0.6116 - val_acc: 0.8074\n",
            "Epoch 5/50\n",
            "164/164 [==============================] - 80s 488ms/step - loss: 0.5077 - acc: 0.8168 - val_loss: 0.6543 - val_acc: 0.8173\n",
            "Epoch 6/50\n",
            "164/164 [==============================] - 80s 486ms/step - loss: 0.4917 - acc: 0.8230 - val_loss: 0.5047 - val_acc: 0.8251\n",
            "Epoch 7/50\n",
            "164/164 [==============================] - 79s 482ms/step - loss: 0.4811 - acc: 0.8244 - val_loss: 0.4535 - val_acc: 0.8225\n",
            "Epoch 8/50\n",
            "164/164 [==============================] - 79s 482ms/step - loss: 0.4706 - acc: 0.8270 - val_loss: 0.4017 - val_acc: 0.8234\n",
            "Epoch 9/50\n",
            "164/164 [==============================] - 78s 479ms/step - loss: 0.4595 - acc: 0.8341 - val_loss: 0.3016 - val_acc: 0.8321\n",
            "Epoch 10/50\n",
            "164/164 [==============================] - 79s 481ms/step - loss: 0.4511 - acc: 0.8353 - val_loss: 0.3846 - val_acc: 0.8239\n",
            "Epoch 11/50\n",
            "164/164 [==============================] - 79s 479ms/step - loss: 0.4538 - acc: 0.8348 - val_loss: 0.6846 - val_acc: 0.8451\n",
            "Epoch 12/50\n",
            "164/164 [==============================] - 79s 482ms/step - loss: 0.4396 - acc: 0.8450 - val_loss: 0.3919 - val_acc: 0.8344\n",
            "Epoch 13/50\n",
            "164/164 [==============================] - 79s 480ms/step - loss: 0.4406 - acc: 0.8404 - val_loss: 0.4643 - val_acc: 0.8457\n",
            "Epoch 14/50\n",
            "164/164 [==============================] - 79s 479ms/step - loss: 0.4393 - acc: 0.8382 - val_loss: 0.3451 - val_acc: 0.8280\n",
            "Epoch 15/50\n",
            "164/164 [==============================] - 79s 481ms/step - loss: 0.4248 - acc: 0.8470 - val_loss: 0.3838 - val_acc: 0.8434\n",
            "Epoch 16/50\n",
            "164/164 [==============================] - 78s 477ms/step - loss: 0.4218 - acc: 0.8431 - val_loss: 0.3138 - val_acc: 0.8359\n",
            "Epoch 17/50\n",
            "164/164 [==============================] - 77s 469ms/step - loss: 0.4211 - acc: 0.8446 - val_loss: 0.4192 - val_acc: 0.8405\n",
            "Epoch 18/50\n",
            "164/164 [==============================] - 76s 466ms/step - loss: 0.4170 - acc: 0.8472 - val_loss: 0.6453 - val_acc: 0.8411\n",
            "Epoch 19/50\n",
            "164/164 [==============================] - 77s 470ms/step - loss: 0.4052 - acc: 0.8514 - val_loss: 0.4843 - val_acc: 0.8295\n",
            "Epoch 20/50\n",
            "164/164 [==============================] - 76s 462ms/step - loss: 0.4145 - acc: 0.8481 - val_loss: 0.3565 - val_acc: 0.8344\n",
            "Epoch 21/50\n",
            "164/164 [==============================] - 75s 460ms/step - loss: 0.4042 - acc: 0.8530 - val_loss: 0.5672 - val_acc: 0.8489\n",
            "Epoch 22/50\n",
            "164/164 [==============================] - 76s 462ms/step - loss: 0.4061 - acc: 0.8524 - val_loss: 0.4203 - val_acc: 0.8414\n",
            "Epoch 23/50\n",
            "164/164 [==============================] - 77s 467ms/step - loss: 0.4012 - acc: 0.8555 - val_loss: 0.5593 - val_acc: 0.8510\n",
            "Epoch 24/50\n",
            "164/164 [==============================] - 76s 465ms/step - loss: 0.4004 - acc: 0.8582 - val_loss: 0.3145 - val_acc: 0.8550\n",
            "Epoch 25/50\n",
            "164/164 [==============================] - 77s 471ms/step - loss: 0.3929 - acc: 0.8617 - val_loss: 0.3194 - val_acc: 0.8364\n",
            "Epoch 26/50\n",
            "164/164 [==============================] - 78s 473ms/step - loss: 0.3983 - acc: 0.8553 - val_loss: 0.2419 - val_acc: 0.8542\n",
            "Epoch 27/50\n",
            "164/164 [==============================] - 78s 474ms/step - loss: 0.3896 - acc: 0.8569 - val_loss: 0.5669 - val_acc: 0.8399\n",
            "Epoch 28/50\n",
            "164/164 [==============================] - 78s 473ms/step - loss: 0.3858 - acc: 0.8585 - val_loss: 0.6496 - val_acc: 0.8504\n",
            "Epoch 29/50\n",
            "164/164 [==============================] - 77s 473ms/step - loss: 0.3903 - acc: 0.8596 - val_loss: 0.4845 - val_acc: 0.8376\n",
            "Epoch 30/50\n",
            "164/164 [==============================] - 77s 469ms/step - loss: 0.3885 - acc: 0.8559 - val_loss: 0.4348 - val_acc: 0.8492\n",
            "Epoch 31/50\n",
            "164/164 [==============================] - 77s 469ms/step - loss: 0.3809 - acc: 0.8574 - val_loss: 0.5607 - val_acc: 0.8440\n",
            "Epoch 32/50\n",
            "164/164 [==============================] - 77s 468ms/step - loss: 0.3850 - acc: 0.8609 - val_loss: 0.5886 - val_acc: 0.8504\n",
            "Epoch 33/50\n",
            "164/164 [==============================] - 77s 471ms/step - loss: 0.3829 - acc: 0.8623 - val_loss: 0.3099 - val_acc: 0.8518\n",
            "Epoch 34/50\n",
            "164/164 [==============================] - 77s 470ms/step - loss: 0.3722 - acc: 0.8660 - val_loss: 0.5221 - val_acc: 0.8507\n",
            "Epoch 35/50\n",
            "164/164 [==============================] - 78s 473ms/step - loss: 0.3689 - acc: 0.8628 - val_loss: 0.4044 - val_acc: 0.8562\n",
            "Epoch 36/50\n",
            "164/164 [==============================] - 78s 474ms/step - loss: 0.3704 - acc: 0.8642 - val_loss: 0.3468 - val_acc: 0.8533\n",
            "Epoch 37/50\n",
            "164/164 [==============================] - 78s 476ms/step - loss: 0.3763 - acc: 0.8643 - val_loss: 0.4533 - val_acc: 0.8489\n",
            "Epoch 38/50\n",
            "164/164 [==============================] - 80s 485ms/step - loss: 0.3633 - acc: 0.8689 - val_loss: 0.5023 - val_acc: 0.8518\n",
            "Epoch 39/50\n",
            "164/164 [==============================] - 80s 489ms/step - loss: 0.3692 - acc: 0.8659 - val_loss: 0.4375 - val_acc: 0.8501\n",
            "Epoch 40/50\n",
            "164/164 [==============================] - 80s 488ms/step - loss: 0.3725 - acc: 0.8641 - val_loss: 0.5233 - val_acc: 0.8478\n",
            "Epoch 41/50\n",
            "164/164 [==============================] - 81s 491ms/step - loss: 0.3587 - acc: 0.8692 - val_loss: 0.3043 - val_acc: 0.8608\n",
            "Epoch 42/50\n",
            "164/164 [==============================] - 80s 487ms/step - loss: 0.3623 - acc: 0.8673 - val_loss: 0.4904 - val_acc: 0.8460\n",
            "Epoch 43/50\n",
            "164/164 [==============================] - 79s 480ms/step - loss: 0.3637 - acc: 0.8673 - val_loss: 0.4963 - val_acc: 0.8475\n",
            "Epoch 44/50\n",
            "164/164 [==============================] - 79s 482ms/step - loss: 0.3579 - acc: 0.8712 - val_loss: 0.3303 - val_acc: 0.8530\n",
            "Epoch 45/50\n",
            "164/164 [==============================] - 79s 482ms/step - loss: 0.3627 - acc: 0.8665 - val_loss: 0.5137 - val_acc: 0.8382\n",
            "Epoch 46/50\n",
            "164/164 [==============================] - 79s 483ms/step - loss: 0.3577 - acc: 0.8704 - val_loss: 0.4090 - val_acc: 0.8483\n",
            "Epoch 47/50\n",
            "164/164 [==============================] - 79s 481ms/step - loss: 0.3515 - acc: 0.8718 - val_loss: 0.4627 - val_acc: 0.8550\n",
            "Epoch 48/50\n",
            "164/164 [==============================] - 79s 481ms/step - loss: 0.3507 - acc: 0.8715 - val_loss: 0.5144 - val_acc: 0.8574\n",
            "Epoch 49/50\n",
            "164/164 [==============================] - 79s 481ms/step - loss: 0.3505 - acc: 0.8718 - val_loss: 0.6460 - val_acc: 0.8498\n",
            "Epoch 50/50\n",
            "164/164 [==============================] - 80s 485ms/step - loss: 0.3464 - acc: 0.8743 - val_loss: 0.4453 - val_acc: 0.8498\n"
          ],
          "name": "stdout"
        }
      ]
    },
    {
      "cell_type": "markdown",
      "metadata": {
        "id": "VZd-K1RhFje5",
        "colab_type": "text"
      },
      "source": [
        "# **Visualizing and Testing the Model**\n",
        "Using pretrained VGG16 network, the model have better training, validation and testing results. "
      ]
    },
    {
      "cell_type": "code",
      "metadata": {
        "id": "NARH3Wlaxf8U",
        "colab_type": "code",
        "colab": {
          "base_uri": "https://localhost:8080/",
          "height": 35
        },
        "outputId": "828bd64b-2127-4f8a-9436-2e05431fa2a3"
      },
      "source": [
        "accuracy = model_vgg16.evaluate_generator(test_generator, steps=len(test_generator))\n",
        "print('Accuracy of the model on the test set: ',accuracy[1])"
      ],
      "execution_count": 38,
      "outputs": [
        {
          "output_type": "stream",
          "text": [
            "Accuracy of the model on the test set:  0.871666669845581\n"
          ],
          "name": "stdout"
        }
      ]
    },
    {
      "cell_type": "code",
      "metadata": {
        "id": "IIONPXnyiD3t",
        "colab_type": "code",
        "colab": {
          "base_uri": "https://localhost:8080/",
          "height": 545
        },
        "outputId": "7a8e2006-475a-4d95-f2ae-d46bc08f881d"
      },
      "source": [
        "import matplotlib.pyplot as plt\n",
        "\n",
        "acc = history_vgg16.history['acc']\n",
        "val_acc = history_vgg16.history['val_acc']\n",
        "loss = history_vgg16.history['loss']\n",
        "val_loss = history_vgg16.history['val_loss']\n",
        "epochs = range(1, len(acc) + 1)\n",
        "plt.plot(epochs, acc, 'bo', label='Training accuracy')\n",
        "plt.plot(epochs, val_acc, 'b', label='Validation accuracy')\n",
        "plt.title('Training and validation accuracy')\n",
        "plt.legend()\n",
        "plt.figure()\n",
        "plt.plot(epochs, loss, 'bo', label='Training loss')\n",
        "plt.plot(epochs, val_loss, 'b', label='Validation loss')\n",
        "plt.title('Training and validation loss')\n",
        "plt.legend()\n",
        "plt.show()"
      ],
      "execution_count": 37,
      "outputs": [
        {
          "output_type": "display_data",
          "data": {
            "image/png": "[encoded data removed]",
            "text/plain": [
              "<Figure size 432x288 with 1 Axes>"
            ]
          },
          "metadata": {
            "tags": [],
            "needs_background": "light"
          }
        },
        {
          "output_type": "display_data",
          "data": {
            "image/png": "[encoded data removed]",
            "text/plain": [
              "<Figure size 432x288 with 1 Axes>"
            ]
          },
          "metadata": {
            "tags": [],
            "needs_background": "light"
          }
        }
      ]
    }
  ]
}